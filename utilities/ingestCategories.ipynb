{
 "cells": [
  {
   "cell_type": "code",
   "execution_count": 1,
   "metadata": {},
   "outputs": [],
   "source": [
    "import pymongo\n",
    "from dotenv import load_dotenv\n",
    "import os\n",
    "from dataclasses import dataclass\n",
    "load_dotenv()\n",
    "import secrets\n",
    "import datetime\n",
    "import pprint\n",
    "import json\n",
    "\n",
    "MONGO_URI = os.getenv('MONGO_URI')\n",
    "\n",
    "# Connect to MongoDB\n",
    "client = pymongo.MongoClient(MONGO_URI)\n",
    "resolutionCol = client['beschlusswiki']['resolutions']\n",
    "categoryCol = client['beschlusswiki']['categories']\n",
    "\n",
    "\n",
    "@dataclass\n",
    "class Category:\n",
    "    name: str\n",
    "    tag: str\n",
    "    resolutions: list"
   ]
  },
  {
   "cell_type": "code",
   "execution_count": 2,
   "metadata": {},
   "outputs": [
    {
     "name": "stdout",
     "output_type": "stream",
     "text": [
      "Tag: A, Name: Leitantrag / Leitanträge\n",
      "Tag: A, Name: Arbeit und Soziales\n",
      "Tag: A, Name: Arbeitsprogramm\n",
      "Tag: B, Name: Bildung und Ausbildung\n",
      "Tag: B, Name: Beschäftigung & Gute Arbeit\n",
      "Tag: C, Name: Chancengleicheheit, Bildung & Ausbildung\n",
      "Tag: D, Name: Demokratie & Partizipation\n",
      "Tag: E, Name: Europa\n",
      "Tag: F, Name: Frieden & Internationales\n",
      "Tag: G, Name: Gleichstellung, Feminismus & Gender\n",
      "Tag: I, Name: Inneres, Justiz & Verbaucherschutz\n",
      "Tag: J, Name: Jugendpolitik\n",
      "Tag: K, Name: Kampf gegen Rechts\n",
      "Tag: K, Name: Kommunales, Mieten & Öffentliche Daseinsvorsorge\n",
      "Tag: L, Name: Links Leben\n",
      "Tag: M, Name: Migration, Integration, Asyl\n",
      "Tag: N, Name: Netzpolitik, Medien, Datenschutz & Digitales\n",
      "Tag: O, Name: Öffentliche Daseinsvorsorge, Mieten & Kommunales\n",
      "Tag: O, Name: Organisation und Partei\n",
      "Tag: P, Name: Pflege, Gesundheit & Soziales\n",
      "Tag: R, Name: Rente, Generation & Familie\n",
      "Tag: R, Name: Resolutionen\n",
      "Tag: S, Name: Sonstiges\n",
      "Tag: U, Name: Umwelt, Energie & Nachhaltigkeit\n",
      "Tag: V, Name: Verkehr und Infrastruktur\n",
      "Tag: W, Name: Wirtschaft, Finanzmärkte, Steuern & Kapitalismuskritik\n",
      "Tag: X, Name: Organisationspolitik\n",
      "Tag: Z, Name: Initiativanträge\n",
      "Tag: INI, Name: Initiativanträge\n"
     ]
    }
   ],
   "source": [
    "# Read categories from file\n",
    "with open('categories.txt', 'r', encoding=\"utf-8\") as f:\n",
    "    categories = f.readlines()\n",
    "\n",
    "for category in categories:\n",
    "    name = category.split('-')[1].strip()\n",
    "    tag = category.split('-')[0].strip()\n",
    "    print(\"Tag: {tag}, Name: {name}\".format(tag=tag, name=name))\n",
    "    # Insert category into MongoDB\n",
    "    categoryCol.insert_one({\n",
    "        'name': name,\n",
    "        'tag': tag,\n",
    "        'resolutions': []\n",
    "    })\n",
    "\n"
   ]
  }
 ],
 "metadata": {
  "kernelspec": {
   "display_name": "Python 3",
   "language": "python",
   "name": "python3"
  },
  "language_info": {
   "codemirror_mode": {
    "name": "ipython",
    "version": 3
   },
   "file_extension": ".py",
   "mimetype": "text/x-python",
   "name": "python",
   "nbconvert_exporter": "python",
   "pygments_lexer": "ipython3",
   "version": "3.11.4"
  }
 },
 "nbformat": 4,
 "nbformat_minor": 2
}
