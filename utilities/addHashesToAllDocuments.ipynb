{
 "cells": [
  {
   "cell_type": "code",
   "execution_count": 6,
   "metadata": {},
   "outputs": [],
   "source": [
    "import pymongo\n",
    "from dotenv import load_dotenv\n",
    "import os\n",
    "from dataclasses import dataclass\n",
    "load_dotenv()\n",
    "import json\n",
    "import hashlib\n",
    "import datetime"
   ]
  },
  {
   "cell_type": "code",
   "execution_count": 7,
   "metadata": {},
   "outputs": [
    {
     "name": "stdout",
     "output_type": "stream",
     "text": [
      "Processing resolution: 12ab\n"
     ]
    }
   ],
   "source": [
    "# Connect to MongoDB\n",
    "client = pymongo.MongoClient(os.getenv(\"MONGO_URI\"))\n",
    "res_collection = client['beschlusswiki']['resolutions']\n",
    "\n",
    "\n",
    "# Get all resolutions from the database\n",
    "resolutions = res_collection.find()\n",
    "\n",
    "for resolution in resolutions:\n",
    "    print(\"Processing resolution: \" + resolution['rid'])\n",
    "    res = resolution.copy()\n",
    "    body = res[\"body\"]\n",
    "    applicants = [applicant for applicant in body[\"applicants\"]]\n",
    "    category = body[\"category\"]\n",
    "\n",
    "    stringified = (res['rid'] + res[\"rcode\"] + res[\"user\"] + body[\"title\"] +\n",
    "                    body[\"tag\"] + \"\".join(applicants) + str(body[\"year\"]) +\n",
    "                    category[\"name\"] + category[\"id\"] + body[\"text\"])    \n",
    "\n",
    "    stringified = stringified.encode('utf-8')\n",
    "    # Create sha256 hash\n",
    "    hash = hashlib.sha256(stringified).hexdigest()\n",
    "\n",
    "    # Add hash to resolution\n",
    "    resolution['hash'] = hash\n",
    "    # Update resolution in database\n",
    "    res_collection.update_one({'_id': resolution['_id']}, {\"$set\": resolution}, upsert=False)"
   ]
  }
 ],
 "metadata": {
  "kernelspec": {
   "display_name": "Python 3",
   "language": "python",
   "name": "python3"
  },
  "language_info": {
   "codemirror_mode": {
    "name": "ipython",
    "version": 3
   },
   "file_extension": ".py",
   "mimetype": "text/x-python",
   "name": "python",
   "nbconvert_exporter": "python",
   "pygments_lexer": "ipython3",
   "version": "3.11.4"
  },
  "orig_nbformat": 4
 },
 "nbformat": 4,
 "nbformat_minor": 2
}
