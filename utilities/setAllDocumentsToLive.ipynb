{
 "cells": [
  {
   "cell_type": "code",
   "execution_count": 1,
   "metadata": {},
   "outputs": [],
   "source": [
    "import pymongo\n",
    "from dotenv import load_dotenv\n",
    "import os\n",
    "from dataclasses import dataclass\n",
    "load_dotenv()\n",
    "import json"
   ]
  },
  {
   "cell_type": "code",
   "execution_count": 2,
   "metadata": {},
   "outputs": [
    {
     "data": {
      "text/plain": [
       "<pymongo.results.UpdateResult at 0x1df0c586b90>"
      ]
     },
     "execution_count": 2,
     "metadata": {},
     "output_type": "execute_result"
    }
   ],
   "source": [
    "# Connect to MongoDB\n",
    "client = pymongo.MongoClient(os.getenv(\"MONGO_URI\"))\n",
    "res_collection = client['beschlusswiki']['resolutions']\n",
    "\n",
    "# Set field \"state\" to \"live\" for all documents\n",
    "res_collection.update_many({}, {\"$set\": {\"state\": \"live\"}})"
   ]
  },
  {
   "cell_type": "code",
   "execution_count": 2,
   "metadata": {},
   "outputs": [
    {
     "name": "stdout",
     "output_type": "stream",
     "text": [
      "Moved user field to createdBy for resolution 6519ba46510e26b87f84d777\n",
      "Moved user field to createdBy for resolution 6519ba46510e26b87f84d778\n",
      "Moved user field to createdBy for resolution 6519ba46510e26b87f84d779\n",
      "Moved user field to createdBy for resolution 6519ba46510e26b87f84d77a\n",
      "Moved user field to createdBy for resolution 6519ba46510e26b87f84d77b\n",
      "Moved user field to createdBy for resolution 6519ba46510e26b87f84d77c\n",
      "Moved user field to createdBy for resolution 6519ba46510e26b87f84d77d\n",
      "Moved user field to createdBy for resolution 6519ba46510e26b87f84d77e\n",
      "Moved user field to createdBy for resolution 6519ba46510e26b87f84d77f\n",
      "Moved user field to createdBy for resolution 6519ba46510e26b87f84d780\n",
      "Moved user field to createdBy for resolution 6519ba46510e26b87f84d781\n",
      "Moved user field to createdBy for resolution 6519ba46510e26b87f84d782\n",
      "Moved user field to createdBy for resolution 6519ba46510e26b87f84d783\n",
      "Moved user field to createdBy for resolution 6519ba46510e26b87f84d784\n",
      "Moved user field to createdBy for resolution 6519ba46510e26b87f84d785\n",
      "Moved user field to createdBy for resolution 6519ba46510e26b87f84d786\n",
      "Moved user field to createdBy for resolution 6519ba46510e26b87f84d787\n",
      "Moved user field to createdBy for resolution 6519ba46510e26b87f84d788\n",
      "Moved user field to createdBy for resolution 6519ba46510e26b87f84d789\n",
      "Moved user field to createdBy for resolution 6519ba46510e26b87f84d78a\n",
      "Moved user field to createdBy for resolution 6519ba46510e26b87f84d78b\n",
      "Moved user field to createdBy for resolution 6519ba46510e26b87f84d78c\n",
      "Moved user field to createdBy for resolution 6519ba46510e26b87f84d78d\n",
      "Moved user field to createdBy for resolution 6519ba46510e26b87f84d78e\n",
      "Moved user field to createdBy for resolution 6519ba46510e26b87f84d78f\n",
      "Moved user field to createdBy for resolution 6519ba46510e26b87f84d790\n",
      "Moved user field to createdBy for resolution 6519ba46510e26b87f84d791\n",
      "Moved user field to createdBy for resolution 6519ba46510e26b87f84d792\n",
      "Moved user field to createdBy for resolution 6519ba46510e26b87f84d793\n",
      "Moved user field to createdBy for resolution 6519ba46510e26b87f84d794\n",
      "Moved user field to createdBy for resolution 6519ba46510e26b87f84d795\n",
      "Moved user field to createdBy for resolution 6519ba46510e26b87f84d796\n",
      "Moved user field to createdBy for resolution 6519ba46510e26b87f84d797\n",
      "Moved user field to createdBy for resolution 6519ba46510e26b87f84d798\n",
      "Moved user field to createdBy for resolution 6519ba46510e26b87f84d799\n",
      "Moved user field to createdBy for resolution 6519ba46510e26b87f84d79a\n",
      "Moved user field to createdBy for resolution 6519ba46510e26b87f84d79b\n",
      "Moved user field to createdBy for resolution 6519ba46510e26b87f84d79c\n",
      "Moved user field to createdBy for resolution 6519ba46510e26b87f84d79d\n",
      "Moved user field to createdBy for resolution 6519ba46510e26b87f84d79e\n",
      "Moved user field to createdBy for resolution 6519ba46510e26b87f84d79f\n",
      "Moved user field to createdBy for resolution 6519ba46510e26b87f84d7a0\n",
      "Moved user field to createdBy for resolution 6519ba46510e26b87f84d7a1\n",
      "Moved user field to createdBy for resolution 6519ba46510e26b87f84d7a2\n",
      "Moved user field to createdBy for resolution 6519ba46510e26b87f84d7a3\n",
      "Moved user field to createdBy for resolution 6519ba46510e26b87f84d7a4\n",
      "Moved user field to createdBy for resolution 6519ba46510e26b87f84d7a5\n",
      "Moved user field to createdBy for resolution 6519ba46510e26b87f84d7a6\n",
      "Moved user field to createdBy for resolution 6519ba46510e26b87f84d7a7\n",
      "Moved user field to createdBy for resolution 6519ba46510e26b87f84d7a8\n",
      "Moved user field to createdBy for resolution 6519ba46510e26b87f84d7a9\n",
      "Moved user field to createdBy for resolution 6519ba46510e26b87f84d7aa\n",
      "Moved user field to createdBy for resolution 6519ba46510e26b87f84d7ab\n",
      "Moved user field to createdBy for resolution 6519ba46510e26b87f84d7ac\n",
      "Moved user field to createdBy for resolution 6519ba46510e26b87f84d7ad\n",
      "Moved user field to createdBy for resolution 6519ba46510e26b87f84d7ae\n",
      "Moved user field to createdBy for resolution 6519ba46510e26b87f84d7af\n",
      "Moved user field to createdBy for resolution 6519ba46510e26b87f84d7b0\n",
      "Moved user field to createdBy for resolution 6519ba46510e26b87f84d7b1\n",
      "Moved user field to createdBy for resolution 65228b9c8a2a71ba68f32e5f\n",
      "Moved user field to createdBy for resolution 6529a114908dbd6e59ecb573\n",
      "Moved user field to createdBy for resolution 6529a6057359cbeb3255a74e\n",
      "Moved user field to createdBy for resolution 6529a6057359cbeb3255a750\n",
      "Moved user field to createdBy for resolution 6534ef817b0e6608153c22a1\n",
      "Moved user field to createdBy for resolution 653528fcd74437822cfb573a\n",
      "Moved user field to createdBy for resolution 65352916c333c40ba3316069\n",
      "Moved user field to createdBy for resolution 6550ddb735e527333d2558af\n",
      "Moved user field to createdBy for resolution 6550ddf835e527333d2558b6\n",
      "Moved user field to createdBy for resolution 6550dff0791f8b70e07adf7c\n",
      "Moved user field to createdBy for resolution 6550e14c555ec5fc68c312f0\n",
      "Moved user field to createdBy for resolution 658aecaa30456b57ce5a5479\n",
      "Moved user field to createdBy for resolution 658aed0630456b57ce5a547c\n",
      "Moved user field to createdBy for resolution 658aed3530456b57ce5a547f\n",
      "Moved user field to createdBy for resolution 658aedb930456b57ce5a5485\n",
      "Moved user field to createdBy for resolution 658aee8f7e9aa17ceedec8cb\n",
      "Moved user field to createdBy for resolution 658b00048c385d489f2baf9d\n",
      "Moved user field to createdBy for resolution 658b001b8c385d489f2bafa3\n",
      "Moved user field to createdBy for resolution 658b03f473d50cf15d17144b\n",
      "Moved user field to createdBy for resolution 658b0fdfc38df4127cbc797e\n",
      "Moved user field to createdBy for resolution 658b1017c38df4127cbc7981\n",
      "Moved user field to createdBy for resolution 658b149f83b99769910daab6\n",
      "Moved user field to createdBy for resolution 658b1a88ac58c800e26131e5\n",
      "Moved user field to createdBy for resolution 658b1af4593a7b7193df9bc7\n"
     ]
    }
   ],
   "source": [
    "# Connect to MongoDB\n",
    "client = pymongo.MongoClient(os.getenv(\"MONGO_URI\"))\n",
    "res_collection = client['beschlusswiki']['resolutions']\n",
    "\n",
    "# if resolution.body.user field exists, remove it and move stored value to resolution.createdBy\n",
    "for res in res_collection.find():\n",
    "    if \"user\" in res[\"body\"]:\n",
    "        res_collection.update_one({\"_id\": res[\"_id\"]}, {\"$set\": {\"createdBy\": res[\"body\"][\"user\"]}})\n",
    "        res_collection.update_one({\"_id\": res[\"_id\"]}, {\"$unset\": {\"body.user\": \"\"}})\n",
    "        print(f\"Moved user field to createdBy for resolution {res['_id']}\")\n",
    "        "
   ]
  }
 ],
 "metadata": {
  "kernelspec": {
   "display_name": "Python 3",
   "language": "python",
   "name": "python3"
  },
  "language_info": {
   "codemirror_mode": {
    "name": "ipython",
    "version": 3
   },
   "file_extension": ".py",
   "mimetype": "text/x-python",
   "name": "python",
   "nbconvert_exporter": "python",
   "pygments_lexer": "ipython3",
   "version": "3.11.4"
  }
 },
 "nbformat": 4,
 "nbformat_minor": 2
}
