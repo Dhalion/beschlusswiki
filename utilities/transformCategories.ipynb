{
 "cells": [
  {
   "cell_type": "code",
   "execution_count": 10,
   "metadata": {},
   "outputs": [],
   "source": [
    "import pymongo\n",
    "import os\n",
    "from dotenv import load_dotenv\n",
    "import random\n",
    "\n",
    "load_dotenv()\n",
    "\n",
    "MONGO_URI = os.getenv('MONGO_URI')\n",
    "\n",
    "# Connect to MongoDB\n",
    "client = pymongo.MongoClient(MONGO_URI)\n",
    "\n",
    "resolutionCol = client['beschlusswiki']['resolutions']\n",
    "usersCol = client['beschlusswiki']['users']\n"
   ]
  },
  {
   "cell_type": "code",
   "execution_count": null,
   "metadata": {},
   "outputs": [],
   "source": [
    "\n",
    "# Remove field 'body.categories' from all documents that have it\n",
    "resolutionCol.update_many({'body.categories': {'$exists': True}}, {'$unset': {'body.categories': ''}})\n",
    "\n",
    "# Upsert 'body.category' field with null on all documents\n",
    "resolutionCol.update_many({}, {'$set': {'body.category': None}})"
   ]
  },
  {
   "cell_type": "code",
   "execution_count": 11,
   "metadata": {},
   "outputs": [],
   "source": [
    "userIds = []\n",
    "for user in usersCol.find():\n",
    "    userIds.append(user['_id'])\n",
    "\n",
    "for doc in resolutionCol.find():\n",
    "    # select random element from userIds array\n",
    "    userId = random.choice(userIds)\n",
    "    # update resolution createdBy with userId\n",
    "    resolutionCol.update_one({'_id': doc['_id']}, {'$set': {'createdBy': userId}})\n",
    "\n",
    "\n"
   ]
  }
 ],
 "metadata": {
  "kernelspec": {
   "display_name": "Python 3",
   "language": "python",
   "name": "python3"
  },
  "language_info": {
   "codemirror_mode": {
    "name": "ipython",
    "version": 3
   },
   "file_extension": ".py",
   "mimetype": "text/x-python",
   "name": "python",
   "nbconvert_exporter": "python",
   "pygments_lexer": "ipython3",
   "version": "3.11.4"
  }
 },
 "nbformat": 4,
 "nbformat_minor": 2
}
