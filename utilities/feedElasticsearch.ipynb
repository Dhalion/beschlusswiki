{
 "cells": [
  {
   "cell_type": "code",
   "execution_count": 2,
   "metadata": {},
   "outputs": [],
   "source": [
    "from elasticsearch import Elasticsearch\n",
    "import requests\n",
    "\n",
    "ES_HOST = \"http://orca-test:9200\"\n",
    "\n",
    "es = Elasticsearch(ES_HOST)\n",
    "\n",
    "INDEX_NAME = \"resolutions\""
   ]
  },
  {
   "cell_type": "code",
   "execution_count": 3,
   "metadata": {},
   "outputs": [
    {
     "data": {
      "text/plain": [
       "ObjectApiResponse({'acknowledged': True, 'shards_acknowledged': True, 'index': 'resolutions'})"
      ]
     },
     "execution_count": 3,
     "metadata": {},
     "output_type": "execute_result"
    }
   ],
   "source": [
    "\n",
    "mappings = {\n",
    "    \"properties\": {\n",
    "        \"title\": {\n",
    "            \"type\": \"text\",    \n",
    "            \"analyzer\": \"german\"\n",
    "        },\n",
    "        \"text\": {\n",
    "            \"type\": \"text\",    \n",
    "            \"analyzer\": \"german\"\n",
    "        },\n",
    "        \"year\": {\n",
    "            \"type\": \"integer\"\n",
    "        },\n",
    "        \"tag\": {\n",
    "            \"type\": \"keyword\",\n",
    "        },\n",
    "        \"category\": {\n",
    "            \"type\": \"keyword\",\n",
    "        },\n",
    "        \"applicants\": {\n",
    "            \"type\": \"keyword\",\n",
    "        },\n",
    "    }\n",
    "}\n",
    "# Delete index if it exists\n",
    "if es.indices.exists(index=INDEX_NAME):\n",
    "    es.indices.delete(index=INDEX_NAME)\n",
    "es.indices.create(index=INDEX_NAME, mappings=mappings)"
   ]
  },
  {
   "cell_type": "code",
   "execution_count": 4,
   "metadata": {},
   "outputs": [
    {
     "name": "stdout",
     "output_type": "stream",
     "text": [
      "Added resolution with id 6519ba46510e26b87f84d777 to index resolutions\n",
      "Added resolution with id 6519ba46510e26b87f84d77a to index resolutions\n",
      "Added resolution with id 6519ba46510e26b87f84d779 to index resolutions\n",
      "Added resolution with id 6519ba46510e26b87f84d778 to index resolutions\n",
      "Added resolution with id 6519ba46510e26b87f84d77c to index resolutions\n",
      "Added resolution with id 6519ba46510e26b87f84d783 to index resolutions\n",
      "Added resolution with id 6519ba46510e26b87f84d788 to index resolutions\n",
      "Added resolution with id 6519ba46510e26b87f84d78b to index resolutions\n",
      "Added resolution with id 6519ba46510e26b87f84d78c to index resolutions\n",
      "Added resolution with id 6519ba46510e26b87f84d797 to index resolutions\n",
      "Added resolution with id 6519ba46510e26b87f84d799 to index resolutions\n",
      "Added resolution with id 6519ba46510e26b87f84d79b to index resolutions\n",
      "Added resolution with id 6519ba46510e26b87f84d7a1 to index resolutions\n",
      "Added resolution with id 6519ba46510e26b87f84d7a4 to index resolutions\n",
      "Added resolution with id 6519ba46510e26b87f84d7a5 to index resolutions\n",
      "Added resolution with id 6519ba46510e26b87f84d77d to index resolutions\n",
      "Added resolution with id 6519ba46510e26b87f84d77f to index resolutions\n",
      "Added resolution with id 6519ba46510e26b87f84d787 to index resolutions\n",
      "Added resolution with id 6519ba46510e26b87f84d78a to index resolutions\n",
      "Added resolution with id 6519ba46510e26b87f84d78d to index resolutions\n",
      "Added resolution with id 6519ba46510e26b87f84d790 to index resolutions\n",
      "Added resolution with id 6519ba46510e26b87f84d793 to index resolutions\n",
      "Added resolution with id 6519ba46510e26b87f84d794 to index resolutions\n",
      "Added resolution with id 6519ba46510e26b87f84d795 to index resolutions\n",
      "Added resolution with id 6519ba46510e26b87f84d798 to index resolutions\n",
      "Added resolution with id 6519ba46510e26b87f84d7a2 to index resolutions\n",
      "Added resolution with id 6519ba46510e26b87f84d781 to index resolutions\n",
      "Added resolution with id 6519ba46510e26b87f84d782 to index resolutions\n",
      "Added resolution with id 6519ba46510e26b87f84d785 to index resolutions\n",
      "Added resolution with id 6519ba46510e26b87f84d78e to index resolutions\n",
      "Added resolution with id 6519ba46510e26b87f84d78f to index resolutions\n",
      "Added resolution with id 6519ba46510e26b87f84d79a to index resolutions\n",
      "Added resolution with id 6519ba46510e26b87f84d79c to index resolutions\n",
      "Added resolution with id 6519ba46510e26b87f84d77b to index resolutions\n",
      "Added resolution with id 6519ba46510e26b87f84d77e to index resolutions\n",
      "Added resolution with id 6519ba46510e26b87f84d780 to index resolutions\n",
      "Added resolution with id 6519ba46510e26b87f84d784 to index resolutions\n",
      "Added resolution with id 6519ba46510e26b87f84d786 to index resolutions\n",
      "Added resolution with id 6519ba46510e26b87f84d789 to index resolutions\n",
      "Added resolution with id 6519ba46510e26b87f84d791 to index resolutions\n",
      "Added resolution with id 6519ba46510e26b87f84d792 to index resolutions\n",
      "Added resolution with id 6519ba46510e26b87f84d796 to index resolutions\n",
      "Added resolution with id 6519ba46510e26b87f84d79d to index resolutions\n",
      "Added resolution with id 6519ba46510e26b87f84d79e to index resolutions\n",
      "Added resolution with id 6519ba46510e26b87f84d79f to index resolutions\n",
      "Added resolution with id 6519ba46510e26b87f84d7a0 to index resolutions\n",
      "Added resolution with id 6519ba46510e26b87f84d7a3 to index resolutions\n",
      "Added resolution with id 6519ba46510e26b87f84d7ab to index resolutions\n",
      "Added resolution with id 6519ba46510e26b87f84d7a8 to index resolutions\n",
      "Added resolution with id 6519ba46510e26b87f84d7a9 to index resolutions\n",
      "Added resolution with id 6519ba46510e26b87f84d7aa to index resolutions\n",
      "Added resolution with id 6519ba46510e26b87f84d7ad to index resolutions\n",
      "Added resolution with id 6519ba46510e26b87f84d7ae to index resolutions\n",
      "Added resolution with id 6519ba46510e26b87f84d7ac to index resolutions\n",
      "Added resolution with id 6519ba46510e26b87f84d7af to index resolutions\n",
      "Added resolution with id 6519ba46510e26b87f84d7b0 to index resolutions\n",
      "Added resolution with id 6519ba46510e26b87f84d7b1 to index resolutions\n",
      "Added resolution with id 6519ba46510e26b87f84d7a6 to index resolutions\n",
      "Added resolution with id 6519ba46510e26b87f84d7a7 to index resolutions\n",
      "Added resolution with id 651b0093b634a2bfcf48c229 to index resolutions\n",
      "Added resolution with id 651b0bf014818dc6895dfb83 to index resolutions\n",
      "Added resolution with id 65228b9c8a2a71ba68f32e5f to index resolutions\n",
      "Added resolution with id 6522b60bf78154d49c2e6e44 to index resolutions\n",
      "Added resolution with id 6529a114908dbd6e59ecb573 to index resolutions\n"
     ]
    }
   ],
   "source": [
    "# Get all resolutions from api-nuxt-beschlusswiki.vercel.app/resolution\n",
    "\n",
    "resolutions = requests.get(\"https://nuxt-beschlusswiki-api.vercel.app/resolution\").json()\n",
    "\n",
    "\n",
    "for resolution in resolutions:\n",
    "    if resolution.get(\"state\") != \"live\": break\n",
    "\n",
    "    doc = {\n",
    "        \"title\": resolution.get(\"body\").get(\"title\"),\n",
    "        \"text\": resolution.get(\"body\").get(\"text\"),\n",
    "        \"year\": resolution.get(\"body\").get(\"year\"),\n",
    "        \"tag\": resolution.get(\"body\").get(\"tag\"),\n",
    "        \"category\": resolution.get(\"body\").get(\"category\"),\n",
    "        \"applicants\": resolution.get(\"body\").get(\"applicants\"),\n",
    "    }\n",
    "    es.index(index=INDEX_NAME, id=resolution.get(\"_id\"), document=doc)\n",
    "    print(\"Added resolution with id {} to index resolutions\".format(resolution.get(\"_id\")))"
   ]
  },
  {
   "cell_type": "code",
   "execution_count": 5,
   "metadata": {},
   "outputs": [
    {
     "name": "stderr",
     "output_type": "stream",
     "text": [
      "C:\\Users\\Chris\\AppData\\Local\\Temp\\ipykernel_5832\\4148978780.py:3: DeprecationWarning: The 'params' parameter is deprecated and will be removed in a future version. Instead use individual parameters.\n",
      "  es.cat.count(index=INDEX_NAME, params={\"format\": \"json\"})\n"
     ]
    },
    {
     "data": {
      "text/plain": [
       "ListApiResponse([{'epoch': '1699792961', 'timestamp': '12:42:41', 'count': '64'}])"
      ]
     },
     "execution_count": 5,
     "metadata": {},
     "output_type": "execute_result"
    }
   ],
   "source": [
    "# List Number of indexed resolutions\n",
    "es.indices.refresh(index=INDEX_NAME)\n",
    "es.cat.count(index=INDEX_NAME, params={\"format\": \"json\"})"
   ]
  },
  {
   "cell_type": "code",
   "execution_count": 34,
   "metadata": {},
   "outputs": [
    {
     "name": "stdout",
     "output_type": "stream",
     "text": [
      "Found 46 documents:\n",
      "[6519ba46510e26b87f84d77e] - Score: 10.357319 \t (Stadt, Land, Struktur verändern. Das gute Leben für alle)\n",
      "[6519ba46510e26b87f84d78a] - Score: 6.7918434 \t (Sozial 4.0 – Unsere Zukunft: frei, gerecht und digital)\n",
      "[6519ba46510e26b87f84d787] - Score: 6.5933876 \t (Zukunft statt Grenzen – Wir investieren in die Integrati-)\n",
      "[6519ba46510e26b87f84d79f] - Score: 6.5933876 \t (Echtes Ankommen statt rechter Hetze)\n",
      "[6519ba46510e26b87f84d778] - Score: 5.9474516 \t (Unsere Jugendwahlkampagne 2017)\n",
      "[6519ba46510e26b87f84d79b] - Score: 5.920248 \t (Jin, Jiyan, Azadi! Solidarität mit den Protesten im)\n",
      "[6519ba46510e26b87f84d7ab] - Score: 5.8144407 \t (Zeitenwende – aber richtig!)\n",
      "[6519ba46510e26b87f84d79d] - Score: 5.6971693 \t (Volle Kraft voraus! – Zeitenwende auch in der)\n",
      "[6519ba46510e26b87f84d788] - Score: 5.517683 \t (Steuern und Gerechtigkeit)\n",
      "[6519ba46510e26b87f84d79e] - Score: 4.6901617 \t (Wir sind solidarisch. Komme, was wolle.)\n"
     ]
    },
    {
     "name": "stderr",
     "output_type": "stream",
     "text": [
      "C:\\Users\\Chris\\AppData\\Local\\Temp\\ipykernel_25736\\3285134854.py:58: DeprecationWarning: The 'body' parameter is deprecated and will be removed in a future version. Instead use individual parameters.\n",
      "  res = es.search(index=\"resolutions\", body=query)\n"
     ]
    }
   ],
   "source": [
    "search_term = \"Stadt prägen\"\n",
    "\n",
    "def displayHit(hit):\n",
    "    print(\"[{}] - Score: {} \\t ({})\".format(hit.get(\"_id\"), hit.get(\"_score\"), hit.get(\"_source\").get(\"title\")))\n",
    "\n",
    "# Elasticsearch-Query erstellen\n",
    "query = {\n",
    "    \"query\": {\n",
    "        \"bool\": {\n",
    "            \"should\": [\n",
    "                {\n",
    "                    \"multi_match\": {\n",
    "                        \"query\": search_term,\n",
    "                        \"fields\": [\"title^2\", \"text\"],\n",
    "                        \"fuzziness\": \"AUTO\",\n",
    "                        \"boost\": 1.5\n",
    "                    }\n",
    "                },\n",
    "                {\n",
    "                    \"match_phrase\": {\n",
    "                        \"text\": {\n",
    "                            \"query\": search_term,\n",
    "                            \"slop\": 1,\n",
    "                        }\n",
    "                    }\n",
    "                },\n",
    "                {\n",
    "                    \"span_near\": {\n",
    "                        \"clauses\": [\n",
    "                            {\n",
    "                                \"span_term\": {\n",
    "                                    \"text\": {\n",
    "                                        \"value\": \"Stadt\"\n",
    "                                    }\n",
    "                                }\n",
    "                            },\n",
    "                            {\n",
    "                                \"span_term\": {\n",
    "                                    \"text\": {\n",
    "                                        \"value\": \"prägen\"\n",
    "                                    }\n",
    "                                }\n",
    "                            }\n",
    "                            # Weitere Klauseln für weitere Wörter\n",
    "                        ],\n",
    "                        \"slop\": 0,  # Anzahl der erlaubten Wörter zwischen den Ausdrücken (0 für aufeinander folgende Wörter)\n",
    "                        \"in_order\": True,\n",
    "                        \"boost\": 2\n",
    "                    }\n",
    "                }\n",
    "            ]\n",
    "        }\n",
    "    }\n",
    "}\n",
    "\n",
    "\n",
    "# Die Suche ausführen\n",
    "res = es.search(index=\"resolutions\", body=query)\n",
    "print (\"Found %d documents:\" % res['hits']['total']['value'])\n",
    "for doc in res['hits']['hits']:\n",
    "    displayHit(doc)"
   ]
  }
 ],
 "metadata": {
  "kernelspec": {
   "display_name": "Python 3",
   "language": "python",
   "name": "python3"
  },
  "language_info": {
   "codemirror_mode": {
    "name": "ipython",
    "version": 3
   },
   "file_extension": ".py",
   "mimetype": "text/x-python",
   "name": "python",
   "nbconvert_exporter": "python",
   "pygments_lexer": "ipython3",
   "version": "3.11.4"
  }
 },
 "nbformat": 4,
 "nbformat_minor": 2
}
