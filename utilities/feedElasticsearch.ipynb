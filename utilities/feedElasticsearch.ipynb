{
 "cells": [
  {
   "cell_type": "code",
   "execution_count": 2,
   "metadata": {},
   "outputs": [],
   "source": [
    "from elasticsearch import Elasticsearch\n",
    "import requests\n",
    "\n",
    "ES_HOST = \"http://orca-test:9200\"\n",
    "\n",
    "es = Elasticsearch(ES_HOST)\n",
    "\n"
   ]
  },
  {
   "cell_type": "code",
   "execution_count": null,
   "metadata": {},
   "outputs": [],
   "source": [
    "\n",
    "mappings = {\n",
    "    \"properties\": {\n",
    "        \"title\": {\n",
    "            \"type\": \"text\",    \n",
    "            \"analyzer\": \"german\"\n",
    "        },\n",
    "        \"text\": {\n",
    "            \"type\": \"text\",    \n",
    "            \"analyzer\": \"german\"\n",
    "        },\n",
    "        \"year\": {\n",
    "            \"type\": \"integer\"\n",
    "        },\n",
    "    }\n",
    "}\n",
    "\n",
    "es.indices.create(index=\"resolutions\", mappings=mappings)"
   ]
  },
  {
   "cell_type": "code",
   "execution_count": null,
   "metadata": {},
   "outputs": [],
   "source": [
    "# Get all resolutions from api-nuxt-beschlusswiki.vercel.app/resolution\n",
    "\n",
    "resolutions = requests.get(\"https://nuxt-beschlusswiki-api.vercel.app/resolution\").json()\n",
    "\n",
    "\n",
    "for resolution in resolutions:\n",
    "    if resolution.get(\"state\") != \"live\": break\n",
    "\n",
    "    doc = {\n",
    "        \"title\": resolution.get(\"body\").get(\"title\"),\n",
    "        \"text\": resolution.get(\"body\").get(\"text\"),\n",
    "        \"year\": resolution.get(\"body\").get(\"year\"),\n",
    "    }\n",
    "    es.index(index=\"resolutions\", id=resolution.get(\"_id\"), document=doc)\n",
    "    print(\"Added resolution with id {} to index resolutions\".format(resolution.get(\"_id\")))"
   ]
  },
  {
   "cell_type": "code",
   "execution_count": null,
   "metadata": {},
   "outputs": [],
   "source": [
    "# List Number of indexed resolutions\n",
    "es.indices.refresh(index=\"resolutions\")\n",
    "es.cat.count(index=\"resolutions\", params={\"format\": \"json\"})"
   ]
  },
  {
   "cell_type": "code",
   "execution_count": 34,
   "metadata": {},
   "outputs": [
    {
     "name": "stdout",
     "output_type": "stream",
     "text": [
      "Found 46 documents:\n",
      "[6519ba46510e26b87f84d77e] - Score: 10.357319 \t (Stadt, Land, Struktur verändern. Das gute Leben für alle)\n",
      "[6519ba46510e26b87f84d78a] - Score: 6.7918434 \t (Sozial 4.0 – Unsere Zukunft: frei, gerecht und digital)\n",
      "[6519ba46510e26b87f84d787] - Score: 6.5933876 \t (Zukunft statt Grenzen – Wir investieren in die Integrati-)\n",
      "[6519ba46510e26b87f84d79f] - Score: 6.5933876 \t (Echtes Ankommen statt rechter Hetze)\n",
      "[6519ba46510e26b87f84d778] - Score: 5.9474516 \t (Unsere Jugendwahlkampagne 2017)\n",
      "[6519ba46510e26b87f84d79b] - Score: 5.920248 \t (Jin, Jiyan, Azadi! Solidarität mit den Protesten im)\n",
      "[6519ba46510e26b87f84d7ab] - Score: 5.8144407 \t (Zeitenwende – aber richtig!)\n",
      "[6519ba46510e26b87f84d79d] - Score: 5.6971693 \t (Volle Kraft voraus! – Zeitenwende auch in der)\n",
      "[6519ba46510e26b87f84d788] - Score: 5.517683 \t (Steuern und Gerechtigkeit)\n",
      "[6519ba46510e26b87f84d79e] - Score: 4.6901617 \t (Wir sind solidarisch. Komme, was wolle.)\n"
     ]
    },
    {
     "name": "stderr",
     "output_type": "stream",
     "text": [
      "C:\\Users\\Chris\\AppData\\Local\\Temp\\ipykernel_25736\\3285134854.py:58: DeprecationWarning: The 'body' parameter is deprecated and will be removed in a future version. Instead use individual parameters.\n",
      "  res = es.search(index=\"resolutions\", body=query)\n"
     ]
    }
   ],
   "source": [
    "search_term = \"Stadt prägen\"\n",
    "\n",
    "def displayHit(hit):\n",
    "    print(\"[{}] - Score: {} \\t ({})\".format(hit.get(\"_id\"), hit.get(\"_score\"), hit.get(\"_source\").get(\"title\")))\n",
    "\n",
    "# Elasticsearch-Query erstellen\n",
    "query = {\n",
    "    \"query\": {\n",
    "        \"bool\": {\n",
    "            \"should\": [\n",
    "                {\n",
    "                    \"multi_match\": {\n",
    "                        \"query\": search_term,\n",
    "                        \"fields\": [\"title^2\", \"text\"],\n",
    "                        \"fuzziness\": \"AUTO\",\n",
    "                        \"boost\": 1.5\n",
    "                    }\n",
    "                },\n",
    "                {\n",
    "                    \"match_phrase\": {\n",
    "                        \"text\": {\n",
    "                            \"query\": search_term,\n",
    "                            \"slop\": 1,\n",
    "                        }\n",
    "                    }\n",
    "                },\n",
    "                {\n",
    "                    \"span_near\": {\n",
    "                        \"clauses\": [\n",
    "                            {\n",
    "                                \"span_term\": {\n",
    "                                    \"text\": {\n",
    "                                        \"value\": \"Stadt\"\n",
    "                                    }\n",
    "                                }\n",
    "                            },\n",
    "                            {\n",
    "                                \"span_term\": {\n",
    "                                    \"text\": {\n",
    "                                        \"value\": \"prägen\"\n",
    "                                    }\n",
    "                                }\n",
    "                            }\n",
    "                            # Weitere Klauseln für weitere Wörter\n",
    "                        ],\n",
    "                        \"slop\": 0,  # Anzahl der erlaubten Wörter zwischen den Ausdrücken (0 für aufeinander folgende Wörter)\n",
    "                        \"in_order\": True,\n",
    "                        \"boost\": 2\n",
    "                    }\n",
    "                }\n",
    "            ]\n",
    "        }\n",
    "    }\n",
    "}\n",
    "\n",
    "\n",
    "# Die Suche ausführen\n",
    "res = es.search(index=\"resolutions\", body=query)\n",
    "print (\"Found %d documents:\" % res['hits']['total']['value'])\n",
    "for doc in res['hits']['hits']:\n",
    "    displayHit(doc)"
   ]
  }
 ],
 "metadata": {
  "kernelspec": {
   "display_name": "Python 3",
   "language": "python",
   "name": "python3"
  },
  "language_info": {
   "codemirror_mode": {
    "name": "ipython",
    "version": 3
   },
   "file_extension": ".py",
   "mimetype": "text/x-python",
   "name": "python",
   "nbconvert_exporter": "python",
   "pygments_lexer": "ipython3",
   "version": "3.11.4"
  }
 },
 "nbformat": 4,
 "nbformat_minor": 2
}
