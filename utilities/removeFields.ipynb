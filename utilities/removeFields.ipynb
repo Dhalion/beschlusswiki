{
 "cells": [
  {
   "cell_type": "code",
   "execution_count": 1,
   "metadata": {},
   "outputs": [
    {
     "data": {
      "text/plain": [
       "<pymongo.results.UpdateResult at 0x2a97dd7a020>"
      ]
     },
     "execution_count": 1,
     "metadata": {},
     "output_type": "execute_result"
    }
   ],
   "source": [
    "import pymongo\n",
    "import os\n",
    "from dotenv import load_dotenv\n",
    "\n",
    "load_dotenv()\n",
    "\n",
    "MONGO_URI = os.getenv('MONGO_URI')\n",
    "\n",
    "# Connect to MongoDB\n",
    "client = pymongo.MongoClient(MONGO_URI)\n",
    "resolutionCol = client['beschlusswiki']['resolutions']\n",
    "\n",
    "# Remove field 'body.categories' from all documents that have it\n",
    "resolutionCol.update_many({'user': {'$exists': True}}, {'$unset': {'user': ''}})\n",
    "\n"
   ]
  }
 ],
 "metadata": {
  "kernelspec": {
   "display_name": "Python 3",
   "language": "python",
   "name": "python3"
  },
  "language_info": {
   "codemirror_mode": {
    "name": "ipython",
    "version": 3
   },
   "file_extension": ".py",
   "mimetype": "text/x-python",
   "name": "python",
   "nbconvert_exporter": "python",
   "pygments_lexer": "ipython3",
   "version": "3.11.4"
  }
 },
 "nbformat": 4,
 "nbformat_minor": 2
}
