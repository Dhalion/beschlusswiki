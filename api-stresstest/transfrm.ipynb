{
 "cells": [
  {
   "cell_type": "code",
   "execution_count": 9,
   "metadata": {},
   "outputs": [
    {
     "name": "stdout",
     "output_type": "stream",
     "text": [
      "64a822e194a2f79f00a1b145\n",
      "64a822e194a2f79f00a1b146\n",
      "64a822e194a2f79f00a1b147\n",
      "64a822e194a2f79f00a1b148\n",
      "64a822e194a2f79f00a1b149\n",
      "64a822e194a2f79f00a1b14a\n",
      "64a822e194a2f79f00a1b14b\n",
      "64a822e194a2f79f00a1b14c\n",
      "64a822e294a2f79f00a1b14d\n",
      "64a822e294a2f79f00a1b14e\n",
      "64a822e294a2f79f00a1b14f\n",
      "64a822e294a2f79f00a1b150\n",
      "64a822e294a2f79f00a1b151\n",
      "64a822e294a2f79f00a1b152\n",
      "64a822e294a2f79f00a1b153\n",
      "64a822e294a2f79f00a1b154\n",
      "64a822e294a2f79f00a1b155\n",
      "64a822e294a2f79f00a1b156\n",
      "64a822e294a2f79f00a1b157\n",
      "64a822e294a2f79f00a1b158\n",
      "64a822e294a2f79f00a1b159\n",
      "64a822e294a2f79f00a1b15a\n",
      "64a822e294a2f79f00a1b15b\n",
      "64a822e294a2f79f00a1b15c\n",
      "64a822e294a2f79f00a1b15d\n",
      "64a822e294a2f79f00a1b15f\n",
      "64a822e294a2f79f00a1b160\n",
      "64a822e294a2f79f00a1b161\n",
      "64a822e294a2f79f00a1b162\n",
      "64a822e294a2f79f00a1b163\n",
      "64a822e294a2f79f00a1b164\n",
      "64a822e294a2f79f00a1b165\n",
      "64a822e294a2f79f00a1b166\n",
      "64a822e294a2f79f00a1b167\n",
      "64a822e294a2f79f00a1b168\n",
      "64a822e294a2f79f00a1b169\n",
      "64a822e294a2f79f00a1b16a\n",
      "64a822e294a2f79f00a1b16b\n",
      "64a822e294a2f79f00a1b16c\n",
      "64a822e294a2f79f00a1b16d\n",
      "64a822e294a2f79f00a1b16e\n",
      "64a822e294a2f79f00a1b16f\n",
      "64a822e294a2f79f00a1b170\n",
      "64a822e294a2f79f00a1b171\n",
      "64a822e294a2f79f00a1b172\n",
      "64a822e294a2f79f00a1b173\n",
      "64a822e294a2f79f00a1b174\n",
      "64a822e294a2f79f00a1b175\n",
      "64a822e294a2f79f00a1b176\n",
      "64a822e294a2f79f00a1b177\n",
      "64a822e294a2f79f00a1b178\n",
      "64a822e294a2f79f00a1b179\n",
      "64a822e294a2f79f00a1b17a\n",
      "64a822e294a2f79f00a1b17b\n",
      "64a822e294a2f79f00a1b17c\n",
      "64a822e294a2f79f00a1b17d\n",
      "64a822e294a2f79f00a1b17e\n",
      "64ad72f61cbadc1d134223ac\n"
     ]
    }
   ],
   "source": [
    "# Load sample-ids.json\n",
    "\n",
    "import json\n",
    "\n",
    "ids = []\n",
    "\n",
    "with open('sample-ids.json') as f:\n",
    "    sample_ids = json.load(f)\n",
    "# print(sample_ids)\n",
    "for id in sample_ids[\"ids\"]:\n",
    "    print(id[\"$oid\"])\n",
    "    ids.append(id[\"$oid\"] + \"\\n\")\n",
    "\n",
    "with open('ids.txt', 'w') as f:\n",
    "    f.writelines(ids)\n"
   ]
  }
 ],
 "metadata": {
  "kernelspec": {
   "display_name": "Python 3",
   "language": "python",
   "name": "python3"
  },
  "language_info": {
   "codemirror_mode": {
    "name": "ipython",
    "version": 3
   },
   "file_extension": ".py",
   "mimetype": "text/x-python",
   "name": "python",
   "nbconvert_exporter": "python",
   "pygments_lexer": "ipython3",
   "version": "3.11.4"
  },
  "orig_nbformat": 4
 },
 "nbformat": 4,
 "nbformat_minor": 2
}
